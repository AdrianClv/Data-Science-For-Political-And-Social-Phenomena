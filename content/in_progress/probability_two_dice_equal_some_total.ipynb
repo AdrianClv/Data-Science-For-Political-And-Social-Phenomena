{
 "cells": [
  {
   "cell_type": "markdown",
   "metadata": {},
   "source": [
    "# Calculate The Probability Two Dice Equal Some Total\n",
    "\n",
    "Based on [http://www.amazon.com/Python-Probability-Statistics-Machine-Learning/dp/3319307150](Python for Probability, Statistics, and Machine Learning) by José Unpingco."
   ]
  },
  {
   "cell_type": "code",
   "execution_count": 30,
   "metadata": {
    "collapsed": true
   },
   "outputs": [],
   "source": [
    "# Create two six-sided dice\n",
    "dice_1 = range(1,7)\n",
    "dice_2 = range(1,7)"
   ]
  },
  {
   "cell_type": "code",
   "execution_count": 33,
   "metadata": {
    "collapsed": false
   },
   "outputs": [
    {
     "data": {
      "text/plain": [
       "{(1, 1): 2,\n",
       " (1, 2): 3,\n",
       " (1, 3): 4,\n",
       " (1, 4): 5,\n",
       " (1, 5): 6,\n",
       " (1, 6): 7,\n",
       " (2, 1): 3,\n",
       " (2, 2): 4,\n",
       " (2, 3): 5,\n",
       " (2, 4): 6,\n",
       " (2, 5): 7,\n",
       " (2, 6): 8,\n",
       " (3, 1): 4,\n",
       " (3, 2): 5,\n",
       " (3, 3): 6,\n",
       " (3, 4): 7,\n",
       " (3, 5): 8,\n",
       " (3, 6): 9,\n",
       " (4, 1): 5,\n",
       " (4, 2): 6,\n",
       " (4, 3): 7,\n",
       " (4, 4): 8,\n",
       " (4, 5): 9,\n",
       " (4, 6): 10,\n",
       " (5, 1): 6,\n",
       " (5, 2): 7,\n",
       " (5, 3): 8,\n",
       " (5, 4): 9,\n",
       " (5, 5): 10,\n",
       " (5, 6): 11,\n",
       " (6, 1): 7,\n",
       " (6, 2): 8,\n",
       " (6, 3): 9,\n",
       " (6, 4): 10,\n",
       " (6, 5): 11,\n",
       " (6, 6): 12}"
      ]
     },
     "execution_count": 33,
     "metadata": {},
     "output_type": "execute_result"
    }
   ],
   "source": [
    "# Create a dictionary of the combination of two dice, \n",
    "# then add together all the possible combinations\n",
    "d = {(i,j):i+j for i in dice_1 for j in dice_2}\n",
    "\n",
    "# View all the totals for all the possible combinations of throws\n",
    "d"
   ]
  },
  {
   "cell_type": "code",
   "execution_count": 25,
   "metadata": {
    "collapsed": false
   },
   "outputs": [
    {
     "data": {
      "text/plain": [
       "defaultdict(list,\n",
       "            {2: [(1, 1)],\n",
       "             3: [(2, 1), (1, 2)],\n",
       "             4: [(1, 3), (3, 1), (2, 2)],\n",
       "             5: [(3, 2), (1, 4), (2, 3), (4, 1)],\n",
       "             6: [(5, 1), (4, 2), (3, 3), (1, 5), (2, 4)],\n",
       "             7: [(1, 6), (2, 5), (3, 4), (6, 1), (5, 2), (4, 3)],\n",
       "             8: [(2, 6), (3, 5), (4, 4), (6, 2), (5, 3)],\n",
       "             9: [(3, 6), (4, 5), (5, 4), (6, 3)],\n",
       "             10: [(6, 4), (4, 6), (5, 5)],\n",
       "             11: [(6, 5), (5, 6)],\n",
       "             12: [(6, 6)]})"
      ]
     },
     "execution_count": 25,
     "metadata": {},
     "output_type": "execute_result"
    }
   ],
   "source": [
    "# Import defaultdict\n",
    "from collections import defaultdict\n",
    "\n",
    "# Create an empty dictionary of lists\n",
    "dinv = defaultdict(list)\n",
    "\n",
    "# for each dice face (i) and total (j) in the\n",
    "# combination of dice faces (d.items()),\n",
    "for i,j in d.items():\n",
    "    # Add a dictionary entry for the total (j) and append to its list\n",
    "    # the dice face (i)\n",
    "    dinv[j].append(i)\n",
    "    \n",
    "# View all the totals with the list of dice throws which create them\n",
    "dinv"
   ]
  },
  {
   "cell_type": "code",
   "execution_count": 29,
   "metadata": {
    "collapsed": false
   },
   "outputs": [
    {
     "data": {
      "text/plain": [
       "{2: 0.027777777777777776,\n",
       " 3: 0.05555555555555555,\n",
       " 4: 0.08333333333333333,\n",
       " 5: 0.1111111111111111,\n",
       " 6: 0.1388888888888889,\n",
       " 7: 0.16666666666666666,\n",
       " 8: 0.1388888888888889,\n",
       " 9: 0.1111111111111111,\n",
       " 10: 0.08333333333333333,\n",
       " 11: 0.05555555555555555,\n",
       " 12: 0.027777777777777776}"
      ]
     },
     "execution_count": 29,
     "metadata": {},
     "output_type": "execute_result"
    }
   ],
   "source": [
    "# Create a dictionary with the keys being totals (i) and the values being the\n",
    "# the number of dice throw combinations (len(j) that total i divided by the total number\n",
    "# of possible combinations. This is the probability of getting the each possible total.)\n",
    "{i:len(j)/len(d) for i,j in dinv.items()}"
   ]
  }
 ],
 "metadata": {
  "kernelspec": {
   "display_name": "Python 3",
   "language": "python",
   "name": "python3"
  },
  "language_info": {
   "codemirror_mode": {
    "name": "ipython",
    "version": 3
   },
   "file_extension": ".py",
   "mimetype": "text/x-python",
   "name": "python",
   "nbconvert_exporter": "python",
   "pygments_lexer": "ipython3",
   "version": "3.5.1"
  }
 },
 "nbformat": 4,
 "nbformat_minor": 0
}

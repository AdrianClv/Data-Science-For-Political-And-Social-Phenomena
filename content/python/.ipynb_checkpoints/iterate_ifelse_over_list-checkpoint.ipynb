{
 "cells": [
  {
   "cell_type": "markdown",
   "metadata": {},
   "source": [
    "# Iterate An Ifelse Over A List"
   ]
  },
  {
   "cell_type": "markdown",
   "metadata": {},
   "source": [
    "## Create some data"
   ]
  },
  {
   "cell_type": "code",
   "execution_count": 11,
   "metadata": {
    "collapsed": false
   },
   "outputs": [
    {
     "name": "stdout",
     "output_type": "stream",
     "text": [
      "Is valid\n",
      "Invalid\n",
      "Is valid\n"
     ]
    }
   ],
   "source": [
    "word_list = ['Egypt',\n",
    "             'Watching',\n",
    "             'Eleanor']\n",
    "\n",
    "vowels = ['A',\n",
    "          'E',\n",
    "          'I',\n",
    "          'O',\n",
    "          'U']"
   ]
  },
  {
   "cell_type": "markdown",
   "metadata": {},
   "source": [
    "## Create a for loop"
   ]
  },
  {
   "cell_type": "code",
   "execution_count": 12,
   "metadata": {
    "collapsed": false
   },
   "outputs": [
    {
     "name": "stdout",
     "output_type": "stream",
     "text": [
      "Is valid\n",
      "Invalid\n",
      "Is valid\n"
     ]
    }
   ],
   "source": [
    "# for each item in the word_list,\n",
    "for word in word_list:\n",
    "    # if any word starts with e, where e is vowels,\n",
    "    if any([word.startswith(e) for e in vowels]):\n",
    "        # then print is valid,\n",
    "        print('Is valid')\n",
    "    # if not,    \n",
    "    else:\n",
    "        # print invalid\n",
    "        print('Invalid')"
   ]
  }
 ],
 "metadata": {
  "kernelspec": {
   "display_name": "Python 3",
   "language": "python",
   "name": "python3"
  },
  "language_info": {
   "codemirror_mode": {
    "name": "ipython",
    "version": 3
   },
   "file_extension": ".py",
   "mimetype": "text/x-python",
   "name": "python",
   "nbconvert_exporter": "python",
   "pygments_lexer": "ipython3",
   "version": "3.5.1"
  }
 },
 "nbformat": 4,
 "nbformat_minor": 0
}

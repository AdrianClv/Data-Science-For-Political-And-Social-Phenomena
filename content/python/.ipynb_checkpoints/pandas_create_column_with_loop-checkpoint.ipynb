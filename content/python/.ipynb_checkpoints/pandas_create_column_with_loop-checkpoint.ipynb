{
 "cells": [
  {
   "cell_type": "markdown",
   "metadata": {},
   "source": [
    "# Create A Pandas Column With A For Loop"
   ]
  },
  {
   "cell_type": "markdown",
   "metadata": {},
   "source": [
    "## Preliminaries"
   ]
  },
  {
   "cell_type": "code",
   "execution_count": 7,
   "metadata": {
    "collapsed": false
   },
   "outputs": [],
   "source": [
    "import pandas as pd\n",
    "import numpy as np"
   ]
  },
  {
   "cell_type": "markdown",
   "metadata": {},
   "source": [
    "## Create an example dataframe"
   ]
  },
  {
   "cell_type": "code",
   "execution_count": null,
   "metadata": {
    "collapsed": false
   },
   "outputs": [],
   "source": [
    "raw_data = {'student_name': ['Miller', 'Jacobson', 'Ali', 'Milner', 'Cooze', 'Jacon', 'Ryaner', 'Sone', 'Sloan', 'Piger', 'Riani', 'Ali'], \n",
    "        'test_score': [76, 88, 84, 67, 53, 96, 64, 91, 77, 73, 52, np.NaN]}\n",
    "df = pd.DataFrame(raw_data, columns = ['student_name', 'test_score'])"
   ]
  },
  {
   "cell_type": "markdown",
   "metadata": {},
   "source": [
    "## Create a function to assign letter grades"
   ]
  },
  {
   "cell_type": "code",
   "execution_count": 22,
   "metadata": {
    "collapsed": false
   },
   "outputs": [],
   "source": [
    "# Create a list to store the data\n",
    "grades = []\n",
    "\n",
    "# For each row in the column,\n",
    "for row in df['test_score']:\n",
    "    # if more than a value,\n",
    "    if row > 95:\n",
    "        # Append a letter grade\n",
    "        grades.append('A')\n",
    "    # else, if more than a value,\n",
    "    elif row > 90:\n",
    "        # Append a letter grade\n",
    "        grades.append('A-')\n",
    "    # else, if more than a value,\n",
    "    elif row > 85:\n",
    "        # Append a letter grade\n",
    "        grades.append('B')\n",
    "    # else, if more than a value,\n",
    "    elif row > 80:\n",
    "        # Append a letter grade\n",
    "        grades.append('B-')\n",
    "    # else, if more than a value,\n",
    "    elif row > 75:\n",
    "        # Append a letter grade\n",
    "        grades.append('C')\n",
    "    # else, if more than a value,\n",
    "    elif row > 70:\n",
    "        # Append a letter grade\n",
    "        grades.append('C-')\n",
    "    # else, if more than a value,\n",
    "    elif row > 65:\n",
    "        # Append a letter grade\n",
    "        grades.append('D')\n",
    "    # else, if more than a value,\n",
    "    elif row > 60:\n",
    "        # Append a letter grade\n",
    "        grades.append('D-')\n",
    "    # otherwise,\n",
    "    else:\n",
    "        # Append a failing grade\n",
    "        grades.append('Failed')\n",
    "        \n",
    "# Create a column from the list\n",
    "df['grades'] = grades"
   ]
  },
  {
   "cell_type": "code",
   "execution_count": 23,
   "metadata": {
    "collapsed": false
   },
   "outputs": [
    {
     "data": {
      "text/html": [
       "<div style=\"max-height:1000px;max-width:1500px;overflow:auto;\">\n",
       "<table border=\"1\" class=\"dataframe\">\n",
       "  <thead>\n",
       "    <tr style=\"text-align: right;\">\n",
       "      <th></th>\n",
       "      <th>student_name</th>\n",
       "      <th>test_score</th>\n",
       "      <th>grades</th>\n",
       "    </tr>\n",
       "  </thead>\n",
       "  <tbody>\n",
       "    <tr>\n",
       "      <th>0 </th>\n",
       "      <td>   Miller</td>\n",
       "      <td> 76</td>\n",
       "      <td>      C</td>\n",
       "    </tr>\n",
       "    <tr>\n",
       "      <th>1 </th>\n",
       "      <td> Jacobson</td>\n",
       "      <td> 88</td>\n",
       "      <td>      B</td>\n",
       "    </tr>\n",
       "    <tr>\n",
       "      <th>2 </th>\n",
       "      <td>      Ali</td>\n",
       "      <td> 84</td>\n",
       "      <td>     B-</td>\n",
       "    </tr>\n",
       "    <tr>\n",
       "      <th>3 </th>\n",
       "      <td>   Milner</td>\n",
       "      <td> 67</td>\n",
       "      <td>      D</td>\n",
       "    </tr>\n",
       "    <tr>\n",
       "      <th>4 </th>\n",
       "      <td>    Cooze</td>\n",
       "      <td> 53</td>\n",
       "      <td> Failed</td>\n",
       "    </tr>\n",
       "    <tr>\n",
       "      <th>5 </th>\n",
       "      <td>    Jacon</td>\n",
       "      <td> 96</td>\n",
       "      <td>      A</td>\n",
       "    </tr>\n",
       "    <tr>\n",
       "      <th>6 </th>\n",
       "      <td>   Ryaner</td>\n",
       "      <td> 64</td>\n",
       "      <td>     D-</td>\n",
       "    </tr>\n",
       "    <tr>\n",
       "      <th>7 </th>\n",
       "      <td>     Sone</td>\n",
       "      <td> 91</td>\n",
       "      <td>     A-</td>\n",
       "    </tr>\n",
       "    <tr>\n",
       "      <th>8 </th>\n",
       "      <td>    Sloan</td>\n",
       "      <td> 77</td>\n",
       "      <td>      C</td>\n",
       "    </tr>\n",
       "    <tr>\n",
       "      <th>9 </th>\n",
       "      <td>    Piger</td>\n",
       "      <td> 73</td>\n",
       "      <td>     C-</td>\n",
       "    </tr>\n",
       "    <tr>\n",
       "      <th>10</th>\n",
       "      <td>    Riani</td>\n",
       "      <td> 52</td>\n",
       "      <td> Failed</td>\n",
       "    </tr>\n",
       "    <tr>\n",
       "      <th>11</th>\n",
       "      <td>      Ali</td>\n",
       "      <td>NaN</td>\n",
       "      <td> Failed</td>\n",
       "    </tr>\n",
       "  </tbody>\n",
       "</table>\n",
       "</div>"
      ],
      "text/plain": [
       "   student_name  test_score  grades\n",
       "0        Miller          76       C\n",
       "1      Jacobson          88       B\n",
       "2           Ali          84      B-\n",
       "3        Milner          67       D\n",
       "4         Cooze          53  Failed\n",
       "5         Jacon          96       A\n",
       "6        Ryaner          64      D-\n",
       "7          Sone          91      A-\n",
       "8         Sloan          77       C\n",
       "9         Piger          73      C-\n",
       "10        Riani          52  Failed\n",
       "11          Ali         NaN  Failed"
      ]
     },
     "execution_count": 23,
     "metadata": {},
     "output_type": "execute_result"
    }
   ],
   "source": [
    "# View the new dataframe\n",
    "df"
   ]
  }
 ],
 "metadata": {
  "kernelspec": {
   "display_name": "Python 3",
   "language": "python",
   "name": "python3"
  },
  "language_info": {
   "codemirror_mode": {
    "name": "ipython",
    "version": 3
   },
   "file_extension": ".py",
   "mimetype": "text/x-python",
   "name": "python",
   "nbconvert_exporter": "python",
   "pygments_lexer": "ipython3",
   "version": "3.5.1"
  }
 },
 "nbformat": 4,
 "nbformat_minor": 0
}

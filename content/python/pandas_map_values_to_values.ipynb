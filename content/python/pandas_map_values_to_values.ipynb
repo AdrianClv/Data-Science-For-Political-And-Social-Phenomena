{
 "cells": [
  {
   "cell_type": "markdown",
   "metadata": {},
   "source": [
    "# Map External Values To Dataframe Values in Pandas"
   ]
  },
  {
   "cell_type": "markdown",
   "metadata": {},
   "source": [
    "### import modules"
   ]
  },
  {
   "cell_type": "code",
   "execution_count": 2,
   "metadata": {
    "collapsed": false
   },
   "outputs": [],
   "source": [
    "import pandas as pd"
   ]
  },
  {
   "cell_type": "markdown",
   "metadata": {},
   "source": [
    "### Create dataframe"
   ]
  },
  {
   "cell_type": "code",
   "execution_count": 15,
   "metadata": {
    "collapsed": false
   },
   "outputs": [
    {
     "data": {
      "text/html": [
       "<div style=\"max-height:1000px;max-width:1500px;overflow:auto;\">\n",
       "<table border=\"1\" class=\"dataframe\">\n",
       "  <thead>\n",
       "    <tr style=\"text-align: right;\">\n",
       "      <th></th>\n",
       "      <th>first_name</th>\n",
       "      <th>last_name</th>\n",
       "      <th>age</th>\n",
       "      <th>city</th>\n",
       "    </tr>\n",
       "  </thead>\n",
       "  <tbody>\n",
       "    <tr>\n",
       "      <th>0</th>\n",
       "      <td> Jason</td>\n",
       "      <td>   Miller</td>\n",
       "      <td> 42</td>\n",
       "      <td> San Francisco</td>\n",
       "    </tr>\n",
       "    <tr>\n",
       "      <th>1</th>\n",
       "      <td> Molly</td>\n",
       "      <td> Jacobson</td>\n",
       "      <td> 52</td>\n",
       "      <td>     Baltimore</td>\n",
       "    </tr>\n",
       "    <tr>\n",
       "      <th>2</th>\n",
       "      <td>  Tina</td>\n",
       "      <td>      Ali</td>\n",
       "      <td> 36</td>\n",
       "      <td>         Miami</td>\n",
       "    </tr>\n",
       "    <tr>\n",
       "      <th>3</th>\n",
       "      <td>  Jake</td>\n",
       "      <td>   Milner</td>\n",
       "      <td> 24</td>\n",
       "      <td>       Douglas</td>\n",
       "    </tr>\n",
       "    <tr>\n",
       "      <th>4</th>\n",
       "      <td>   Amy</td>\n",
       "      <td>    Cooze</td>\n",
       "      <td> 73</td>\n",
       "      <td>        Boston</td>\n",
       "    </tr>\n",
       "  </tbody>\n",
       "</table>\n",
       "<p>5 rows × 4 columns</p>\n",
       "</div>"
      ],
      "text/plain": [
       "  first_name last_name  age           city\n",
       "0      Jason    Miller   42  San Francisco\n",
       "1      Molly  Jacobson   52      Baltimore\n",
       "2       Tina       Ali   36          Miami\n",
       "3       Jake    Milner   24        Douglas\n",
       "4        Amy     Cooze   73         Boston\n",
       "\n",
       "[5 rows x 4 columns]"
      ]
     },
     "execution_count": 15,
     "metadata": {},
     "output_type": "execute_result"
    }
   ],
   "source": [
    "raw_data = {'first_name': ['Jason', 'Molly', 'Tina', 'Jake', 'Amy'], \n",
    "        'last_name': ['Miller', 'Jacobson', 'Ali', 'Milner', 'Cooze'], \n",
    "        'age': [42, 52, 36, 24, 73], \n",
    "        'city': ['San Francisco', 'Baltimore', 'Miami', 'Douglas', 'Boston']}\n",
    "df = pd.DataFrame(raw_data, columns = ['first_name', 'last_name', 'age', 'city'])\n",
    "df"
   ]
  },
  {
   "cell_type": "markdown",
   "metadata": {},
   "source": [
    "### Create a dictionary of values"
   ]
  },
  {
   "cell_type": "code",
   "execution_count": 16,
   "metadata": {
    "collapsed": false
   },
   "outputs": [],
   "source": [
    "city_to_state = { 'San Francisco' : 'California', \n",
    "                  'Baltimore' : 'Maryland', \n",
    "                  'Miami' : 'Florida', \n",
    "                  'Douglas' : 'Arizona', \n",
    "                  'Boston' : 'Massachusetts'}"
   ]
  },
  {
   "cell_type": "markdown",
   "metadata": {},
   "source": [
    "### Map the values of the city_to_state dictionary to the values in the city variable"
   ]
  },
  {
   "cell_type": "code",
   "execution_count": 18,
   "metadata": {
    "collapsed": false
   },
   "outputs": [
    {
     "data": {
      "text/html": [
       "<div style=\"max-height:1000px;max-width:1500px;overflow:auto;\">\n",
       "<table border=\"1\" class=\"dataframe\">\n",
       "  <thead>\n",
       "    <tr style=\"text-align: right;\">\n",
       "      <th></th>\n",
       "      <th>first_name</th>\n",
       "      <th>last_name</th>\n",
       "      <th>age</th>\n",
       "      <th>city</th>\n",
       "      <th>state</th>\n",
       "    </tr>\n",
       "  </thead>\n",
       "  <tbody>\n",
       "    <tr>\n",
       "      <th>0</th>\n",
       "      <td> Jason</td>\n",
       "      <td>   Miller</td>\n",
       "      <td> 42</td>\n",
       "      <td> San Francisco</td>\n",
       "      <td>    California</td>\n",
       "    </tr>\n",
       "    <tr>\n",
       "      <th>1</th>\n",
       "      <td> Molly</td>\n",
       "      <td> Jacobson</td>\n",
       "      <td> 52</td>\n",
       "      <td>     Baltimore</td>\n",
       "      <td>      Maryland</td>\n",
       "    </tr>\n",
       "    <tr>\n",
       "      <th>2</th>\n",
       "      <td>  Tina</td>\n",
       "      <td>      Ali</td>\n",
       "      <td> 36</td>\n",
       "      <td>         Miami</td>\n",
       "      <td>       Florida</td>\n",
       "    </tr>\n",
       "    <tr>\n",
       "      <th>3</th>\n",
       "      <td>  Jake</td>\n",
       "      <td>   Milner</td>\n",
       "      <td> 24</td>\n",
       "      <td>       Douglas</td>\n",
       "      <td>       Arizona</td>\n",
       "    </tr>\n",
       "    <tr>\n",
       "      <th>4</th>\n",
       "      <td>   Amy</td>\n",
       "      <td>    Cooze</td>\n",
       "      <td> 73</td>\n",
       "      <td>        Boston</td>\n",
       "      <td> Massachusetts</td>\n",
       "    </tr>\n",
       "  </tbody>\n",
       "</table>\n",
       "<p>5 rows × 5 columns</p>\n",
       "</div>"
      ],
      "text/plain": [
       "  first_name last_name  age           city          state\n",
       "0      Jason    Miller   42  San Francisco     California\n",
       "1      Molly  Jacobson   52      Baltimore       Maryland\n",
       "2       Tina       Ali   36          Miami        Florida\n",
       "3       Jake    Milner   24        Douglas        Arizona\n",
       "4        Amy     Cooze   73         Boston  Massachusetts\n",
       "\n",
       "[5 rows x 5 columns]"
      ]
     },
     "execution_count": 18,
     "metadata": {},
     "output_type": "execute_result"
    }
   ],
   "source": [
    "df['state'] = df['city'].map(city_to_state)\n",
    "df"
   ]
  }
 ],
 "metadata": {
  "kernelspec": {
   "display_name": "Python 3",
   "language": "python",
   "name": "python3"
  },
  "language_info": {
   "codemirror_mode": {
    "name": "ipython",
    "version": 3
   },
   "file_extension": ".py",
   "mimetype": "text/x-python",
   "name": "python",
   "nbconvert_exporter": "python",
   "pygments_lexer": "ipython3",
   "version": "3.5.1"
  }
 },
 "nbformat": 4,
 "nbformat_minor": 0
}

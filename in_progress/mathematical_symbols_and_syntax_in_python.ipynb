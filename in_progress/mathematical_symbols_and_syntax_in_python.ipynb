{
 "cells": [
  {
   "cell_type": "markdown",
   "metadata": {},
   "source": [
    "# Mathematical Symbols And Syntax As Python Code"
   ]
  },
  {
   "cell_type": "markdown",
   "metadata": {},
   "source": [
    "## Equals Sign\n",
    "\n",
    "**Mathematical Concept In Plain English:**\n",
    "\n",
    "One object is the same as a different object.\n",
    "\n",
    "**Mathematical Symbol:**\n",
    "\n",
    "$=$\n",
    "\n",
    "**Python code:**\n",
    "\n",
    "''==''\n",
    "\n",
    "**Example In Python Code:**"
   ]
  },
  {
   "cell_type": "code",
   "execution_count": 2,
   "metadata": {
    "collapsed": false
   },
   "outputs": [
    {
     "data": {
      "text/plain": [
       "True"
      ]
     },
     "execution_count": 2,
     "metadata": {},
     "output_type": "execute_result"
    }
   ],
   "source": [
    "# Is 3 the same as 3?\n",
    "3 == 3"
   ]
  },
  {
   "cell_type": "markdown",
   "metadata": {},
   "source": [
    "## Not Equal Sign\n",
    "\n",
    "**Mathematical Concept In Plain English:**\n",
    "\n",
    "One object is different from a second object.\n",
    "\n",
    "**Mathematical Symbol:**\n",
    "\n",
    "$\\neq$\n",
    "\n",
    "**Python code:**\n",
    "\n",
    "```python\n",
    "!=\n",
    "```\n",
    "\n",
    "**Example In Python Code:**"
   ]
  },
  {
   "cell_type": "code",
   "execution_count": 3,
   "metadata": {
    "collapsed": false
   },
   "outputs": [
    {
     "data": {
      "text/plain": [
       "True"
      ]
     },
     "execution_count": 3,
     "metadata": {},
     "output_type": "execute_result"
    }
   ],
   "source": [
    "# Is 3 different than 4?\n",
    "3 != 4"
   ]
  }
 ],
 "metadata": {
  "kernelspec": {
   "display_name": "Python 3",
   "language": "python",
   "name": "python3"
  },
  "language_info": {
   "codemirror_mode": {
    "name": "ipython",
    "version": 3
   },
   "file_extension": ".py",
   "mimetype": "text/x-python",
   "name": "python",
   "nbconvert_exporter": "python",
   "pygments_lexer": "ipython3",
   "version": "3.4.3"
  }
 },
 "nbformat": 4,
 "nbformat_minor": 0
}

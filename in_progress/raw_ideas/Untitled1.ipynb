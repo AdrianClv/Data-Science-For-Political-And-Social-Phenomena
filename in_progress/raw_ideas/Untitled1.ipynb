{
 "cells": [
  {
   "cell_type": "code",
   "execution_count": 21,
   "metadata": {
    "collapsed": false
   },
   "outputs": [
    {
     "name": "stdout",
     "output_type": "stream",
     "text": [
      "(1, 1, 1)\n",
      "(1, 1, 2)\n",
      "(1, 1, 3)\n",
      "(1, 2, 1)\n",
      "(1, 2, 2)\n",
      "(1, 2, 3)\n"
     ]
    }
   ],
   "source": [
    "# import itertools\n",
    "import itertools\n",
    "\n",
    "# for two sets, find the the cartisan product\n",
    "for i in itertools.product([1], [1,2], [1,2,3]):\n",
    "    # and print it\n",
    "    print(i)"
   ]
  },
  {
   "cell_type": "code",
   "execution_count": 10,
   "metadata": {
    "collapsed": false
   },
   "outputs": [
    {
     "name": "stdout",
     "output_type": "stream",
     "text": [
      "()\n",
      "('category',)\n",
      "('datetime',)\n",
      "('numeric',)\n",
      "('category', 'datetime')\n",
      "('category', 'numeric')\n",
      "('datetime', 'numeric')\n",
      "('category', 'datetime', 'numeric')\n"
     ]
    }
   ],
   "source": [
    "import itertools\n",
    "\n",
    "S = [ 'category', 'datetime', 'numeric' ]\n",
    "\n",
    "for i in range(len(S)+1):\n",
    "  for c in itertools.combinations(S, i):\n",
    "    cc = ''.join(c)\n",
    "    print(c)"
   ]
  },
  {
   "cell_type": "code",
   "execution_count": 8,
   "metadata": {
    "collapsed": false
   },
   "outputs": [
    {
     "name": "stdout",
     "output_type": "stream",
     "text": [
      "()\n",
      "('a',)\n",
      "('ab',)\n",
      "('ba',)\n",
      "('a', 'ab')\n",
      "('a', 'ba')\n",
      "('ab', 'ba')\n",
      "('a', 'ab', 'ba')\n"
     ]
    }
   ],
   "source": [
    "import itertools\n",
    "\n",
    "S = [ 'a', 'ab', 'ba' ]\n",
    "\n",
    "for i in range(len(S)+1):\n",
    "  for c in itertools.combinations(S, i):\n",
    "    cc = ''.join(c)\n",
    "    if len(cc) <= 6:\n",
    "      print(c)"
   ]
  },
  {
   "cell_type": "code",
   "execution_count": 12,
   "metadata": {
    "collapsed": false
   },
   "outputs": [
    {
     "name": "stdout",
     "output_type": "stream",
     "text": [
      "()\n"
     ]
    }
   ],
   "source": [
    "def reps(seq, n):\n",
    "  return itertools.product(*[seq]*n)\n",
    "\n",
    "for i in range(7):\n",
    "  for c in reps(S, i):\n",
    "    cc = ''.join(c)\n",
    "    if len(cc) <= 6:\n",
    "      print(c)"
   ]
  },
  {
   "cell_type": "code",
   "execution_count": 16,
   "metadata": {
    "collapsed": false
   },
   "outputs": [
    {
     "data": {
      "text/plain": [
       "[('category', 'datetime', 'numeric'),\n",
       " ('category', 'numeric', 'datetime'),\n",
       " ('datetime', 'category', 'numeric'),\n",
       " ('datetime', 'numeric', 'category'),\n",
       " ('numeric', 'category', 'datetime'),\n",
       " ('numeric', 'datetime', 'category')]"
      ]
     },
     "execution_count": 16,
     "metadata": {},
     "output_type": "execute_result"
    }
   ],
   "source": [
    "l = ['category', 'datetime', 'numeric']\n",
    "list(itertools.permutations(l, 3))"
   ]
  },
  {
   "cell_type": "code",
   "execution_count": 20,
   "metadata": {
    "collapsed": false
   },
   "outputs": [
    {
     "data": {
      "text/plain": [
       "[('category', 'datetime'), ('category', 'numeric'), ('datetime', 'numeric')]"
      ]
     },
     "execution_count": 20,
     "metadata": {},
     "output_type": "execute_result"
    }
   ],
   "source": [
    "l = ['category', 'datetime', 'numeric']\n",
    "list(itertools.combinations(l, 2))"
   ]
  },
  {
   "cell_type": "code",
   "execution_count": 25,
   "metadata": {
    "collapsed": false
   },
   "outputs": [],
   "source": [
    "l = [2, 4, 5]\n",
    "\n",
    "def stepper_w_w(l,stop):\n",
    "    numb1=1\n",
    "    while numb1<stop:\n",
    "        #print(numb1)\n",
    "        l[0]=numb1\n",
    "        NeL=0 \n",
    "        while l[len(l)-1]<=numb1: \n",
    "            if l[NeL]==l[len(l)-1]:\n",
    "                l[NeL]+=1\n",
    "                l[(NeL+1):]=[1]*((len(l))-(NeL+1))\n",
    "                print(l)\n",
    "                NeL=-1\n",
    "            NeL+=1\n",
    "        numb1+=1\n",
    "\n",
    "stepper_w_w(l, 3)"
   ]
  },
  {
   "cell_type": "code",
   "execution_count": 33,
   "metadata": {
    "collapsed": false
   },
   "outputs": [
    {
     "data": {
      "text/plain": [
       "['DC']"
      ]
     },
     "execution_count": 33,
     "metadata": {},
     "output_type": "execute_result"
    }
   ],
   "source": [
    "import itertools[\"\".join(x) for x in (itertools.combinations(set(\"CD\"),2))]"
   ]
  },
  {
   "cell_type": "code",
   "execution_count": 45,
   "metadata": {
    "collapsed": false
   },
   "outputs": [],
   "source": [
    "from itertools import combinations_with_replacement\n",
    "\n",
    "combinations = []\n",
    "\n",
    "l = ['category', 'datetime', 'numeric']\n",
    "combinations.append(list(combinations_with_replacement(l, 1)))\n",
    "combinations.append(list(combinations_with_replacement(l, 2)))\n",
    "combinations.append(list(combinations_with_replacement(l, 3)))\n"
   ]
  },
  {
   "cell_type": "code",
   "execution_count": 46,
   "metadata": {
    "collapsed": false
   },
   "outputs": [
    {
     "data": {
      "text/plain": [
       "[[('category',), ('datetime',), ('numeric',)],\n",
       " [('category', 'category'),\n",
       "  ('category', 'datetime'),\n",
       "  ('category', 'numeric'),\n",
       "  ('datetime', 'datetime'),\n",
       "  ('datetime', 'numeric'),\n",
       "  ('numeric', 'numeric')],\n",
       " [('category', 'category', 'category'),\n",
       "  ('category', 'category', 'datetime'),\n",
       "  ('category', 'category', 'numeric'),\n",
       "  ('category', 'datetime', 'datetime'),\n",
       "  ('category', 'datetime', 'numeric'),\n",
       "  ('category', 'numeric', 'numeric'),\n",
       "  ('datetime', 'datetime', 'datetime'),\n",
       "  ('datetime', 'datetime', 'numeric'),\n",
       "  ('datetime', 'numeric', 'numeric'),\n",
       "  ('numeric', 'numeric', 'numeric')]]"
      ]
     },
     "execution_count": 46,
     "metadata": {},
     "output_type": "execute_result"
    }
   ],
   "source": [
    "combinations"
   ]
  },
  {
   "cell_type": "code",
   "execution_count": 49,
   "metadata": {
    "collapsed": false
   },
   "outputs": [
    {
     "data": {
      "text/plain": [
       "[('category',),\n",
       " ('datetime',),\n",
       " ('numeric',),\n",
       " ('category', 'category'),\n",
       " ('category', 'datetime'),\n",
       " ('category', 'numeric'),\n",
       " ('datetime', 'datetime'),\n",
       " ('datetime', 'numeric'),\n",
       " ('numeric', 'numeric'),\n",
       " ('category', 'category', 'category'),\n",
       " ('category', 'category', 'datetime'),\n",
       " ('category', 'category', 'numeric'),\n",
       " ('category', 'datetime', 'datetime'),\n",
       " ('category', 'datetime', 'numeric'),\n",
       " ('category', 'numeric', 'numeric'),\n",
       " ('datetime', 'datetime', 'datetime'),\n",
       " ('datetime', 'datetime', 'numeric'),\n",
       " ('datetime', 'numeric', 'numeric'),\n",
       " ('numeric', 'numeric', 'numeric')]"
      ]
     },
     "execution_count": 49,
     "metadata": {},
     "output_type": "execute_result"
    }
   ],
   "source": [
    "combinations = [i for row in combinations for i in row]\n",
    "combinations"
   ]
  },
  {
   "cell_type": "code",
   "execution_count": null,
   "metadata": {
    "collapsed": true
   },
   "outputs": [],
   "source": []
  }
 ],
 "metadata": {
  "kernelspec": {
   "display_name": "Python 3",
   "language": "python",
   "name": "python3"
  },
  "language_info": {
   "codemirror_mode": {
    "name": "ipython",
    "version": 3
   },
   "file_extension": ".py",
   "mimetype": "text/x-python",
   "name": "python",
   "nbconvert_exporter": "python",
   "pygments_lexer": "ipython3",
   "version": "3.4.3"
  }
 },
 "nbformat": 4,
 "nbformat_minor": 0
}
